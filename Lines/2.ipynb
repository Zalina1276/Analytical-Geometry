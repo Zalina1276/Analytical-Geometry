Types of line equations in the plane.
General equation of a line.
Canonical equation of a line.
Line equation in intercept form on the coordinate axes.
Line equation in slope form.
Line equation passing through a given point in a given direction.
Line equation passing through two given points.
Relative positions of lines in the plane.
Intersection of two lines.
Angle between two lines.
Conditions for parallelism and perpendicularity of two lines.
