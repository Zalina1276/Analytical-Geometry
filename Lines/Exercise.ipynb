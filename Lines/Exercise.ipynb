{
 "cells": [
  {
   "cell_type": "markdown",
   "metadata": {},
   "source": [
    "# Exercise list\n"
"\n",
"Types of line equations in the plane.\n",
"\n",
"General equation of a line.\n",
"\n",
"Canonical equation of a line.\n",
"\n",
"Line equation in intercept form on the coordinate axes.\n",
"\n",
"Line equation in slope form.\n",
"\n",
"Line equation passing through a given point in a given direction.\n",
"\n",,
"Line equation passing through two given points.\n",
"\n",
"Relative positions of lines in the plane.\n",
"\n",
"Intersection of two lines.\n",
"\n",
"Angle between two lines.\n",
"\n",
"Conditions for parallelism and perpendicularity of two lines\n"
   ]
  }
 ],
 "metadata": {},
 "nbformat": 4,
 "nbformat_minor": 5
}
