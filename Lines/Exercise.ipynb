{
 "cells": [
  {
   "cell_type": "markdown",
   "metadata": {},
   "source": [
    "# Exercise list"
"Types of line equations in the plane.\n"
"General equation of a line.\n"
"Canonical equation of a line.\n"
"Line equation in intercept form on the coordinate axes.\n"
"Line equation in slope form.\n"
"Line equation passing through a given point in a given direction.\n"
"Line equation passing through two given points.\n"
"Relative positions of lines in the plane.\n"
"Intersection of two lines.\n"
"Angle between two lines.\n"
"Conditions for parallelism and perpendicularity of two lines\n"
   ]
  }
 ],
 "metadata": {},
 "nbformat": 4,
 "nbformat_minor": 5
}
